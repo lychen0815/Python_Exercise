{
 "cells": [
  {
   "cell_type": "code",
   "execution_count": 4,
   "metadata": {},
   "outputs": [
    {
     "name": "stdout",
     "output_type": "stream",
     "text": [
      "                                                    0\n",
      "0                Hey, remember when I had a monkey?\\n\n",
      "1                  Yeah, what, what was I thinking?\\n\n",
      "2                     What’s up with the greed Joe?\\n\n",
      "3    Well isn’t there something you can do to earn...\n",
      "4    Oh, wait! Wait! Don’t you have an audition to...\n",
      "5                                               Hi!\\n\n",
      "6               Hey, what have you guys been up to?\\n\n",
      "7                                              Wow!\\n\n",
      "8                After one class? I don’t think so.\\n\n",
      "9    Well, of course you can defend yourself from ...\n",
      "10                              No, it’s a concept!\\n\n",
      "11              All right, maybe it means that too…\\n\n",
      "12   Y’know what? Fine! Get attacked! I don’t even...\n",
      "13   Unagi is a state of total awareness. Okay? On...\n",
      "14    All I’m saying is, it’s one thing being prep...\n",
      "15   All right, you know that one was coming, but ...\n",
      "16                                    Y’know what… \\n\n",
      "17                                              No.\\n\n",
      "18                        So what are you gonna do?\\n\n",
      "19                            DANGER!!! DANGER!!!!!\\n\n",
      "20            A lesson in the importance of unagi. \\n\n",
      "21   Perhaps. Now I’m curious, at what point durin...\n",
      "22   I’m sorry I had to take such drastic measures...\n",
      "23                   Chandler. I sensed it was you.\\n\n",
      "24                         Unagi. I’m always aware.\\n\n",
      "25                                       What’s up?\\n\n",
      "26   Oh, why don’t you make her one of your little...\n",
      "27   Y’know what? She’d-she’d love this.  Uh, it’s...\n",
      "28   Yeah-yeah, except Apollo 8 didn’t actually la...\n",
      "29                                         Why not?\\n\n",
      "30                                              Oh.\\n\n",
      "31   It’s not something you are! It’s something yo...\n",
      "32   Y’know what? I can easily get out of this, bu...\n",
      "33                              It’s a great class.\\n\n",
      "34   Yeah, yeah, I was watching.  Umm, hey, a coup...\n",
      "35           No. No-no. No. What would you do next?\\n\n",
      "36                                Yes that’s right.\\n\n",
      "37       I tired attacking two women, did not work.\\n\n",
      "38   No, I mean it’s okay, I mean, they’re-they’re...\n",
      "39   Oh, no! No-no! No, I tired! But I couldn’t. T...\n",
      "40                          Ah-ha, nowhere to run! \\n\n",
      "41                                       DANGER!!!!\\n\n"
     ]
    }
   ],
   "source": [
    "import pandas as pd\n",
    "import numpy as np\n",
    "\n",
    "f = open(\"32009682_ross.txt\",'r')\n",
    "df = pd.DataFrame(f)\n",
    "\n",
    "print(df)"
   ]
  },
  {
   "cell_type": "code",
   "execution_count": null,
   "metadata": {},
   "outputs": [],
   "source": []
  }
 ],
 "metadata": {
  "kernelspec": {
   "display_name": "Python 3",
   "language": "python",
   "name": "python3"
  },
  "language_info": {
   "codemirror_mode": {
    "name": "ipython",
    "version": 3
   },
   "file_extension": ".py",
   "mimetype": "text/x-python",
   "name": "python",
   "nbconvert_exporter": "python",
   "pygments_lexer": "ipython3",
   "version": "3.7.6"
  }
 },
 "nbformat": 4,
 "nbformat_minor": 4
}
