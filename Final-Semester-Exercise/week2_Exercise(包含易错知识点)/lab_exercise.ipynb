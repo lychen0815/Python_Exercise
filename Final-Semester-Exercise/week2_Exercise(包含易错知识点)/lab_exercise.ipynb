{
 "cells": [
  {
   "cell_type": "markdown",
   "metadata": {},
   "source": [
    "## In-class task 1: Km to Miles Conversion\n",
    "\n",
    "Write a code to **get the user input** of a numeric value in kilometers and **print out** its value in miles.\n",
    "\n",
    "The formula that converts between km and miles is as follows:\n",
    "\n",
    "* $miles = km * 0.62137$"
   ]
  },
  {
   "cell_type": "code",
   "execution_count": 4,
   "metadata": {},
   "outputs": [
    {
     "name": "stdout",
     "output_type": "stream",
     "text": [
      "Please enter a value in km: 12\n",
      "12.0 km equals 7.45644 miles.\n"
     ]
    }
   ],
   "source": [
    "km = input(\"Please enter a value in km: \")\n",
    "km = float(km)\n",
    "miles = km * 0.62137\n",
    "print(km,'km equals',miles,'miles.')"
   ]
  },
  {
   "cell_type": "code",
   "execution_count": 5,
   "metadata": {},
   "outputs": [
    {
     "name": "stdout",
     "output_type": "stream",
     "text": [
      "Please enter a value in km: 12\n"
     ]
    },
    {
     "ename": "TypeError",
     "evalue": "unsupported operand type(s) for +: 'float' and 'str'",
     "output_type": "error",
     "traceback": [
      "\u001b[0;31m---------------------------------------------------------------------------\u001b[0m",
      "\u001b[0;31mTypeError\u001b[0m                                 Traceback (most recent call last)",
      "\u001b[0;32m<ipython-input-5-b8386b14028d>\u001b[0m in \u001b[0;36m<module>\u001b[0;34m\u001b[0m\n\u001b[1;32m      2\u001b[0m \u001b[0mkm\u001b[0m \u001b[0;34m=\u001b[0m \u001b[0mfloat\u001b[0m\u001b[0;34m(\u001b[0m\u001b[0mkm\u001b[0m\u001b[0;34m)\u001b[0m\u001b[0;34m\u001b[0m\u001b[0;34m\u001b[0m\u001b[0m\n\u001b[1;32m      3\u001b[0m \u001b[0mmiles\u001b[0m \u001b[0;34m=\u001b[0m \u001b[0mkm\u001b[0m \u001b[0;34m*\u001b[0m \u001b[0;36m0.62137\u001b[0m\u001b[0;34m\u001b[0m\u001b[0;34m\u001b[0m\u001b[0m\n\u001b[0;32m----> 4\u001b[0;31m \u001b[0mprint\u001b[0m\u001b[0;34m(\u001b[0m\u001b[0mkm\u001b[0m\u001b[0;34m+\u001b[0m\u001b[0;34m'km equals'\u001b[0m\u001b[0;34m+\u001b[0m\u001b[0mmiles\u001b[0m\u001b[0;34m+\u001b[0m\u001b[0;34m'miles.'\u001b[0m\u001b[0;34m)\u001b[0m\u001b[0;34m\u001b[0m\u001b[0;34m\u001b[0m\u001b[0m\n\u001b[0m",
      "\u001b[0;31mTypeError\u001b[0m: unsupported operand type(s) for +: 'float' and 'str'"
     ]
    }
   ],
   "source": [
    "km = input(\"Please enter a value in km: \")\n",
    "km = float(km)\n",
    "miles = km * 0.62137\n",
    "print(km+'km equals'+miles+'miles.')"
   ]
  },
  {
   "cell_type": "code",
   "execution_count": 6,
   "metadata": {},
   "outputs": [
    {
     "name": "stdout",
     "output_type": "stream",
     "text": [
      "Please enter a value in km: 12\n",
      "12.0km equals7.45644miles.\n"
     ]
    }
   ],
   "source": [
    "km = input(\"Please enter a value in km: \")\n",
    "km = float(km)\n",
    "miles = km * 0.62137\n",
    "print(str(km)+'km equals'+str(miles)+'miles.')"
   ]
  },
  {
   "cell_type": "markdown",
   "metadata": {},
   "source": [
    "## In-class task 2: Divisible?\n",
    "\n",
    "Write a code that asks the user to type two integers separately(`num1` and `num2`) and then print out whether `num1` is divisible by `num2`. (Hint: We can use the concept of the remainder)"
   ]
  },
  {
   "cell_type": "code",
   "execution_count": 9,
   "metadata": {},
   "outputs": [
    {
     "name": "stdout",
     "output_type": "stream",
     "text": [
      "Please enter the first integer: 12\n",
      "Please enter the second interger: 1\n",
      "True\n"
     ]
    }
   ],
   "source": [
    "num1 = int(input(\"Please enter the first integer: \"))\n",
    "num2 = int(input(\"Please enter the second interger: \"))\n",
    "\n",
    "result = num1 % num2\n",
    "if result == 0:\n",
    "    print(\"True\")\n",
    "else:\n",
    "    print(\"False\")"
   ]
  },
  {
   "cell_type": "markdown",
   "metadata": {},
   "source": [
    "### Task A: Temperature conversion\n",
    "\n",
    "Write a code that asks the user to type a number as the temperature in the Kelvin scale and then print out the temperature in the Fahrenheit scale.\n",
    "\n",
    "The conversion equation is as follows:\n",
    "\n",
    "* $Fahrenheit = (Kelvin − 273.15) × \\frac{9}{5} + 32$"
   ]
  },
  {
   "cell_type": "code",
   "execution_count": 10,
   "metadata": {},
   "outputs": [
    {
     "name": "stdout",
     "output_type": "stream",
     "text": [
      "Please enter temperature in Kelvin scale: 12\n",
      "12.0 Kelvin equals -438.07 Fahrenheit.\n"
     ]
    }
   ],
   "source": [
    "kelvin = float(input(\"Please enter temperature in Kelvin scale: \"))\n",
    "fahrenheit = (kelvin - 273.15) * 9/5 + 32\n",
    "print(kelvin,\"Kelvin equals\",fahrenheit,\"Fahrenheit.\")"
   ]
  },
  {
   "cell_type": "code",
   "execution_count": null,
   "metadata": {},
   "outputs": [],
   "source": []
  }
 ],
 "metadata": {
  "kernelspec": {
   "display_name": "Python 3",
   "language": "python",
   "name": "python3"
  },
  "language_info": {
   "codemirror_mode": {
    "name": "ipython",
    "version": 3
   },
   "file_extension": ".py",
   "mimetype": "text/x-python",
   "name": "python",
   "nbconvert_exporter": "python",
   "pygments_lexer": "ipython3",
   "version": "3.7.6"
  }
 },
 "nbformat": 4,
 "nbformat_minor": 4
}
