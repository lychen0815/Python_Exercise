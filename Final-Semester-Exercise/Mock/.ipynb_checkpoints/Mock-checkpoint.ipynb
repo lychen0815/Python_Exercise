{
 "cells": [
  {
   "cell_type": "markdown",
   "metadata": {},
   "source": [
    "## Q1: This question is about Classes and Objects.\n",
    "\n",
    "\n",
    "\n",
    "Create a class named Bank, which has attributes Account Number, Account Name, Balance, Address. It will be performing transactions between 2 accounts, checking the balance, withdrawing, changing the account name, and passbook. Complete the following code template for the Bank class:\n",
    "\n",
    "Transaction - removes funds from the bank account and sends it to another account.\n",
    "\n",
    "Check Balance - check the balance of the account holder.\n",
    "\n",
    "Withdraw - withdraws the amount from the account holder, and if withdrawal amount is higher than balance it should be rejected (return False).\n",
    "\n",
    "Change Name - should allow users to change the name.\n",
    "\n",
    "Passbook - should print all the current details of account holder into a file."
   ]
  },
  {
   "cell_type": "code",
   "execution_count": null,
   "metadata": {},
   "outputs": [],
   "source": [
    "class Bank:\n",
    "\t# creates a constructor for Bank\n",
    "\tdef __init__(self, acc_name, acc_no, open_balance, address)\n",
    "\tself.acc_name = acc_name #represent the name of account holder\n",
    "\tself.acc_no = acc_no #indicate account number of the account holder\n",
    "\tself.balance = open_balance #indicate the balance of the account holder\n",
    "\tself.address = address # stores address of the account holder\n",
    "\n",
    "\t# returns the balance of account holder\n",
    "\tdef check_bal(self):\n",
    "\n",
    "\t# function performs withdraw from the account holder.\n",
    "\tdef withdraw(self, amount):\n",
    "\n",
    "\t# function performs change of account name for the account holder.\n",
    "\tdef change_acc_name(self, new_name):\n",
    "\n",
    "\t# function performs transaction between 2 accounts\n",
    "\tdef transaction(self, other, amount):\n",
    "\t\n",
    "\t# function writes account holder’s details into file\n",
    "\tdef passBook(self, filename):"
   ]
  },
  {
   "cell_type": "code",
   "execution_count": null,
   "metadata": {},
   "outputs": [],
   "source": []
  },
  {
   "cell_type": "markdown",
   "metadata": {},
   "source": [
    "## Q2 : This question is about Control Structures and Testing.\n",
    "\n",
    "(a) Write two Python functions which are called create_dict(input_list) and find_tuples(input_dict, threshold_value).\n",
    "\n",
    "#### create_dict(input_list) function takes one list of string parameter and counts how many time each element of the list appears. This function returns a dictionary.\n",
    "\n",
    "For example, given the input_list=[“hello world”, ”python is best”], the returned dictionary should be: {'h': 2, 'e': 2, 'l': 3, 'o': 3, 'w': 1, 'r': 1, 'd': 1, 'p': 1, 'y': 1, 't': 2, 'n': 1,'i': 1, 's': 2, 'b': 1}. Please note, white space will be removed and assume all letters are lowercase.\n",
    "\n",
    "\n",
    "#### find_tuples(input_dic, threshold_value)\n",
    "function takes two parameters: a Python dictionary of key-value pairs called input_dic, and a single integer value called threshold_value. The function should find all the items in the input_dic whose value is not smaller than the threshold_value. Your program should return a list of tuples in which the first item is the key and the second item is the value from the dictionary. Note that to reuse the find_tuple() function, you need to validate that the value of input_dic cannot be a string. Only floating-point and integer value are valid.\n",
    "\n",
    "For example, given that input_dic = {\"z\": \"xyz\", \"f\": 2, \"9\": 8, \"6\": 11}, and threshold_value = 7, the function should return a list of tuples, tuple_list = [(\"9\", 8), (\"6\", 11)]. If the given input_dic is empty, the function should return an empty list.\n",
    "\n",
    "In the main function, use create_dict(input_list) to generate a dictionary, then call find_tuples(input_dic, threshold_value) and use the dictionary generated before to get the tuple. Finally, print the generated tuple. Add validations to ensure the program executes."
   ]
  },
  {
   "cell_type": "code",
   "execution_count": null,
   "metadata": {},
   "outputs": [],
   "source": [
    "def create_dict(input_list):\n",
    "\n",
    "#write your answer here\n",
    "\n",
    "\n",
    "\n",
    "def find_tuples(input_dic, threshold_value):\n",
    "\n",
    "#write your answer here\n",
    "\n",
    "\n",
    "\n",
    "#write the main function here\n",
    "\n"
   ]
  },
  {
   "cell_type": "code",
   "execution_count": null,
   "metadata": {},
   "outputs": [],
   "source": []
  },
  {
   "cell_type": "markdown",
   "metadata": {},
   "source": [
    "## Q3 :  This question is about Errors & exceptions.\n",
    "\n",
    "There are errors present in this code, you must identify them and suggest a fix. Note that x & y are numeric values.\n"
   ]
  },
  {
   "cell_type": "code",
   "execution_count": 1,
   "metadata": {},
   "outputs": [
    {
     "ename": "SyntaxError",
     "evalue": "invalid character in identifier (<ipython-input-1-26bd265e38b1>, line 1)",
     "output_type": "error",
     "traceback": [
      "\u001b[0;36m  File \u001b[0;32m\"<ipython-input-1-26bd265e38b1>\"\u001b[0;36m, line \u001b[0;32m1\u001b[0m\n\u001b[0;31m    def mystery_func_2(“x”,y):\u001b[0m\n\u001b[0m                         ^\u001b[0m\n\u001b[0;31mSyntaxError\u001b[0m\u001b[0;31m:\u001b[0m invalid character in identifier\n"
     ]
    }
   ],
   "source": [
    "def mystery_func_2(“x”,y):\n",
    "    print x, y\n",
    "    r <- x%y\n",
    "    While r>0:\n",
    "        r=x%y\n",
    "        if r == 0\n",
    "            print y\n",
    "        else:\n",
    "            q=y\n",
    "            x=q\n",
    "            y=r"
   ]
  },
  {
   "cell_type": "markdown",
   "metadata": {},
   "source": [
    "EXAMPLE:\n",
    "mystery_func_2(24, 54)\n",
    "\n",
    "Output:\n",
    "24 54\n",
    "6"
   ]
  },
  {
   "cell_type": "code",
   "execution_count": null,
   "metadata": {},
   "outputs": [],
   "source": [
    "(a) Please list all errors below.\n",
    "\n",
    "\n",
    "\n",
    "\n",
    "\n",
    "(b) Explain what does the mystery_func_2 function do?\n",
    "\n",
    "\n",
    "\n",
    "\n",
    "\n",
    "(c) What is output for mystery_func_2(126,196) ?\n",
    "\n"
   ]
  },
  {
   "cell_type": "code",
   "execution_count": null,
   "metadata": {},
   "outputs": [],
   "source": []
  },
  {
   "cell_type": "markdown",
   "metadata": {},
   "source": [
    "## Q4 : This question is about File I/0.\n",
    "\n",
    "There are two files (ie., inputFile1, inputFile2) recording students' marks for two units. Each file has several lines and each line and each line stores the Student ID  and the Mark of a student, respectively. A sample of the data in the files is provided below:\n",
    "\n",
    "inputFile1 is \"FIT9136.txt\" and the content is:\n",
    "\n",
    "10012002 53 \n",
    "10012003 40 \n",
    "\n",
    "10012004 80 \n",
    "\n",
    "10012005 64 \n",
    "\n",
    "inputFile2 is \"FIT9133.txt\" and the content is:\n",
    "10012004 72 \n",
    "\n",
    "10012005 68\n",
    "\n",
    "(a) Write a Python function, find_student_grade(inputFile1, inputFile2, outputFile), that generates a file containing all students’ IDs, the unit(s) they selected, and the average mark that they received for the unit(s). (4 marks)\n",
    "\n",
    "outputFile content should be :\n",
    "10012002, FIT9136, 53\n",
    "\n",
    "10012003, FIT9136, 40\n",
    "\n",
    "10012004, FIT9136, FIT9133, 76\n",
    "\n",
    "10012005, FIT9136, FIT9133, 66\n",
    "Note: \n",
    "\n",
    "For the output file, you should follow the same format of the input file i.e., one student’s data in one line.\n",
    "There might be a student that selected one unit only or selected both units.\n",
    "If the student ID is only available in one input file, the output format should be 10012002, FIT9136, 53.\n",
    "If both input files contain the same student ID, the output format should be 10012004, FIT9136, FIT9133, 76. \n",
    "The output file should contain unique students’ IDs."
   ]
  },
  {
   "cell_type": "code",
   "execution_count": null,
   "metadata": {},
   "outputs": [],
   "source": [
    "def find_student_grade(inputFile1, inputFile2, outputFile):\n",
    "#Write your code here"
   ]
  },
  {
   "cell_type": "code",
   "execution_count": null,
   "metadata": {},
   "outputs": [],
   "source": []
  },
  {
   "cell_type": "markdown",
   "metadata": {},
   "source": [
    "## Q5 :  This question is about Python collective data types.\n",
    "\n",
    "Taking two lists as an argument, write a function in Python, lists_to_dictionary, which build a dictionary based on the two given lists’ values. The function should return the dictionary created. Note that you should not use the built-in zip() function in your implementation.\n",
    "\n",
    "           def lists_to_dictionary(key_list, value_list):\n",
    "For example, given the two lists, key_list = [‘one’, ‘two’, ‘three’] and value_list = [1, 2, 3], the function should return a dictionary new_dict = {‘one’:1,‘two’:2,‘three’:3}. If the given lists are empty, the function should return an empty dictionary. (You can assume that the values from key_list are unique and the length of both lists are the same.)"
   ]
  },
  {
   "cell_type": "code",
   "execution_count": null,
   "metadata": {},
   "outputs": [],
   "source": [
    "def lists_to_dictionary(key_list, value_list):\n",
    "\n",
    "#write your answer here"
   ]
  },
  {
   "cell_type": "code",
   "execution_count": null,
   "metadata": {},
   "outputs": [],
   "source": []
  },
  {
   "cell_type": "markdown",
   "metadata": {},
   "source": [
    "## Q6 : This question is about Recursion.\n",
    "\n",
    "Given the following recursive function, mystery_func, answer each of the following questions."
   ]
  },
  {
   "cell_type": "code",
   "execution_count": null,
   "metadata": {},
   "outputs": [],
   "source": [
    "def mystery_func(a_str):\n",
    "    result = False\n",
    "    if len(a_str) <= 1:\n",
    "        result = True\n",
    "    elif a_str[0] == a_str[len(a_str)-1]:\n",
    "        result = mystery_func(a_str[1:len(a_str)-1])\n",
    "    return result"
   ]
  },
  {
   "cell_type": "markdown",
   "metadata": {},
   "source": [
    "a) Describe what the recursive function mystery_func does.\n",
    "\n",
    "\n",
    "\n",
    "b) Provide two examples of the argument a_str, where one returns a True result and the other returns False result."
   ]
  },
  {
   "cell_type": "code",
   "execution_count": null,
   "metadata": {},
   "outputs": [],
   "source": []
  },
  {
   "cell_type": "markdown",
   "metadata": {},
   "source": [
    "## Q7 : This question is about Searching and Sorting.\n",
    "\n",
    "(a) Write a function in Python, Binary Search, which takes as argument a Python dictionary item_dic, target_item. You should sort the dictionary by its keys into ascending order using the bubble sort algorithm and return a list of values which are corresponding to their keys’ order. And Binary search returns the index of the target_item. What is the best & worst-case time complexity (in terms of Big O-notation) of the search algorithm?\n",
    "\n",
    "For example, if the given item_dic, target_item: {3:”a”, 13:”c”, 5: “b”, -5: “d”}, “b”\n",
    "        After Sorting, the function should return: [“d”, “a”, “b”, “c”]\n",
    "\n",
    "        After Searching, the function should return: 2\n",
    "\n",
    "Note: You may assume that the keys in the dictionary are of the same data type, and the value for each key in the dictionary is unique. The search algorithm is a combination of sorting and searching.\n",
    "\n",
    "(b) Given the following char_list = [“a”, “f”, “c”, “g”, “d”, “z”], what is the output (i.e., printing) at the end of each iteration for the Insertion sort Algorithm?"
   ]
  },
  {
   "cell_type": "code",
   "execution_count": null,
   "metadata": {},
   "outputs": [],
   "source": [
    "(a) def binary_search(item_dic, target_item):\n",
    "\n",
    "#write your answer here\n",
    "\n",
    "\n",
    "\n",
    "(b)\n",
    "\n",
    "#write your answer here"
   ]
  }
 ],
 "metadata": {
  "kernelspec": {
   "display_name": "Python 3",
   "language": "python",
   "name": "python3"
  },
  "language_info": {
   "codemirror_mode": {
    "name": "ipython",
    "version": 3
   },
   "file_extension": ".py",
   "mimetype": "text/x-python",
   "name": "python",
   "nbconvert_exporter": "python",
   "pygments_lexer": "ipython3",
   "version": "3.7.6"
  }
 },
 "nbformat": 4,
 "nbformat_minor": 4
}
