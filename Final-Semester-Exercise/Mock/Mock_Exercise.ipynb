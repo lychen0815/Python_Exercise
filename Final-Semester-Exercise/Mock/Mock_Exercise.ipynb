{
 "cells": [
  {
   "cell_type": "markdown",
   "metadata": {},
   "source": [
    "### Q7 This question is about Searching and Sorting."
   ]
  },
  {
   "cell_type": "code",
   "execution_count": 3,
   "metadata": {},
   "outputs": [
    {
     "data": {
      "text/plain": [
       "2"
      ]
     },
     "execution_count": 3,
     "metadata": {},
     "output_type": "execute_result"
    }
   ],
   "source": [
    "#(a)\n",
    "def bubble_sort(item_dic):\n",
    "    item_list = [[k,v] for k,v in item_dic.items()]\n",
    "    for iter in range(1,len(item_list)):\n",
    "        for idx in range(0,len(item_list)-iter):\n",
    "            if item_list[idx][0] > item_list[idx+1][0]:\n",
    "                item_list[idx],item_list[idx + 1] = item_list[idx+1],item_list[idx]\n",
    "    sorted_list = [x[1] for x in item_list]\n",
    "    return sorted_list\n",
    "\n",
    "def binary_search(item_dic, target_item):\n",
    "    binary_list = bubble_sort(item_dic)\n",
    "    left_idx = 0\n",
    "    right_idx = len(binary_list)-1\n",
    "    while left_idx <= right_idx:\n",
    "        middle_idx = (left_idx + right_idx) // 2\n",
    "        if binary_list[middle_idx] == target_item:\n",
    "            return middle_idx\n",
    "        elif binary_list[middle_idx] > target_item:\n",
    "            right_idx = middle_idx - 1\n",
    "        else:\n",
    "            left_idx = middle_idx + 1\n",
    "    return False\n",
    "\n",
    "\n",
    "binary_search({3: \"a\", 13: \"c\", 5: \"b\", -5: \"d\"}, \"b\")"
   ]
  },
  {
   "cell_type": "markdown",
   "metadata": {},
   "source": [
    "##### (a):Q:What is the best & worst-case time complexity (in terms of Big O-notation) of the search algorithm?\n"
   ]
  },
  {
   "cell_type": "markdown",
   "metadata": {},
   "source": [
    "Time complexity: (binary search)\n",
    "\n",
    "Best case: O(1)\n",
    "Worst case:O(log n)"
   ]
  },
  {
   "cell_type": "markdown",
   "metadata": {},
   "source": [
    "##### (b) Given the following char_list = [“a”, “f”, “c”, “g”, “d”, “z”], what is the output (i.e., printing) at the end of each iteration for the Insertion sort Algorithm?"
   ]
  },
  {
   "cell_type": "code",
   "execution_count": null,
   "metadata": {},
   "outputs": [],
   "source": [
    "['a', 'f', 'c', 'g', 'd', 'z']\n",
    "['a', 'c', 'f', 'g', 'd', 'z']\n",
    "['a', 'c', 'f', 'g', 'd', 'z']\n",
    "['a', 'c', 'd', 'f', 'g', 'z']\n",
    "['a', 'c', 'd', 'f', 'g', 'z']"
   ]
  },
  {
   "cell_type": "code",
   "execution_count": null,
   "metadata": {},
   "outputs": [],
   "source": []
  },
  {
   "cell_type": "markdown",
   "metadata": {},
   "source": [
    "### Q6:    This question is about Recursion."
   ]
  },
  {
   "cell_type": "markdown",
   "metadata": {},
   "source": [
    "##### a) Describe what the recursive function mystery_func does.\n",
    "\n",
    "\n",
    "check a_str is a palindrome (A palindrome is a string which is the same backwards as forwards.)\n",
    "\n",
    "##### b) Provide two examples of the argument a_str, where one returns a True result and the other returns False result.\n",
    "\n",
    "True: \"deed\"\n",
    "\n",
    "False: \"apple\""
   ]
  },
  {
   "cell_type": "code",
   "execution_count": null,
   "metadata": {},
   "outputs": [],
   "source": []
  },
  {
   "cell_type": "markdown",
   "metadata": {},
   "source": [
    "### Q5: This question is about Python collective data types."
   ]
  },
  {
   "cell_type": "code",
   "execution_count": 7,
   "metadata": {},
   "outputs": [
    {
     "data": {
      "text/plain": [
       "{'one': 1, 'two': 2, 'three': 3}"
      ]
     },
     "execution_count": 7,
     "metadata": {},
     "output_type": "execute_result"
    }
   ],
   "source": [
    "def lists_to_dictionary(key_list, value_list):\n",
    "    if len(key_list)==0 and len(value_list)==0:\n",
    "        return {}\n",
    "    new_dict = dict(map(lambda x,y:[x,y],key_list,value_list))\n",
    "    return new_dict\n",
    "lists_to_dictionary([\"one\", \"two\", \"three\"] , [1, 2, 3])"
   ]
  },
  {
   "cell_type": "code",
   "execution_count": null,
   "metadata": {},
   "outputs": [],
   "source": []
  },
  {
   "cell_type": "markdown",
   "metadata": {},
   "source": [
    "### Q4 : This question is about File I/0."
   ]
  },
  {
   "cell_type": "code",
   "execution_count": null,
   "metadata": {},
   "outputs": [],
   "source": [
    "def find_student_grade(inputFile1,inputFile2,outputFile):\n",
    "    student_info = {}\n",
    "\n",
    "    with open(inputFile1) as file1:\n",
    "        for line in file1.readlines():\n",
    "            line = line.strip()\n",
    "            new_line = line.split(' ')\n",
    "            student_info[new_line[0]] = new_line[1]\n",
    "        list1 = [[x,y] for x,y in student_info.items()]\n",
    "        for i in range(len(list1)):\n",
    "            list1[i].insert(1,inputFile1)\n",
    "\n",
    "        with open(inputFile2) as file2:\n",
    "            for line in file2.readlines():\n",
    "                line = line.strip()\n",
    "                new_line = line.split(\" \")\n",
    "                if new_line[0] in student_info.keys():\n",
    "                    for student in list1:\n",
    "                        if new_line[0] == student[0]:\n",
    "                            student[2] = (int(student[2]) + int(new_line[1]))//2\n",
    "                            student.insert(2,inputFile2)\n",
    "        out_info = \"\"\n",
    "        for element in list1:\n",
    "            for idx in range(len(element)):\n",
    "                if idx == len(element)-1:\n",
    "                    out_info += str(element[idx])\n",
    "                else:\n",
    "                    out_info += str(element[idx]) + \",\"\n",
    "\n",
    "            out_info += \"\\n\"\n",
    "        with open(outputFile,'w') as file3:\n",
    "            file3.write(out_info)\n",
    "\n",
    "\n",
    "\n",
    "find_student_grade(\"FIT9136.txt\",\"FIT9133.txt\",\"output.txt\")"
   ]
  },
  {
   "cell_type": "code",
   "execution_count": null,
   "metadata": {},
   "outputs": [],
   "source": []
  },
  {
   "cell_type": "markdown",
   "metadata": {},
   "source": [
    "### Q3: This question is about Errors & exceptions."
   ]
  },
  {
   "cell_type": "markdown",
   "metadata": {},
   "source": [
    "##### (a) Please list all errors below.\n",
    "\n",
    "SyntaxError\n",
    "\n",
    "1.\"x\"-->x\n",
    "\n",
    "2.print x,y --->print(x,y)\n",
    "\n",
    "3.While ---> while\n",
    "\n",
    "4.if r == 0 ----> if r == 0:\n",
    "\n",
    "5.print y ---> print(y)\n",
    "\n",
    "6.r <- x%y ---> r = x%y\n",
    "```python\n",
    "def mystery_func_2(x,y):\n",
    "    print(x, y)\n",
    "    r = x%y\n",
    "    while r > 0:\n",
    "        r=x%y\n",
    "        if r == 0:\n",
    "            print (y)\n",
    "        else:\n",
    "            q=y\n",
    "            x=q\n",
    "            y=r\n",
    "```      \n",
    "\n",
    "\n",
    "##### (b) Explain what does the mystery_func_2 function do?\n",
    "\n",
    "\n",
    "mystery_func_2 will find the largest common multiple of the two input values\n",
    "\n",
    "\n",
    "##### (c) What is output for mystery_func_2(126,196) ?\n",
    "14"
   ]
  },
  {
   "cell_type": "code",
   "execution_count": null,
   "metadata": {},
   "outputs": [],
   "source": []
  },
  {
   "cell_type": "markdown",
   "metadata": {},
   "source": [
    "### Q2:This question is about Control Structures and Testing."
   ]
  },
  {
   "cell_type": "code",
   "execution_count": 30,
   "metadata": {},
   "outputs": [
    {
     "name": "stdout",
     "output_type": "stream",
     "text": [
      "[('9', 8), ('6', 11)]\n"
     ]
    }
   ],
   "source": [
    "def create_dict(input_list):\n",
    "    new_str = ''\n",
    "    new_dict = {}\n",
    "    for word in input_list:\n",
    "        for char in word:\n",
    "            if char.isalpha():\n",
    "                new_str += char.lower()\n",
    "    for letter in new_str:\n",
    "        if letter not in new_dict:\n",
    "            new_dict[letter] = 1\n",
    "        else:\n",
    "            new_dict[letter] += 1\n",
    "    return new_dict\n",
    "\n",
    "\n",
    "def find_tuples(input_dic,threshold_value):\n",
    "    new_list = []\n",
    "    if len(input_dic) == 0:\n",
    "        return []\n",
    "    for k,v in input_dic.items():\n",
    "        if type(v) == int or type(v) == float:\n",
    "            if v > threshold_value:\n",
    "                input_list = []\n",
    "                input_list.append(k)\n",
    "                input_list.append(v)\n",
    "                new_tuple = tuple(input_list)\n",
    "                new_list.append(new_tuple)\n",
    "    return new_list\n",
    "\n",
    "\n",
    "def main():\n",
    "\n",
    "    create_dict([\"HELLO world\", \"python is best\"])\n",
    "    print(find_tuples({\"z\": \"xyz\", \"f\": 2, \"9\": 8, \"6\": 11}, 7))\n",
    "\n",
    "if __name__ ==\"__main__\":\n",
    "    main()"
   ]
  },
  {
   "cell_type": "code",
   "execution_count": null,
   "metadata": {},
   "outputs": [],
   "source": []
  },
  {
   "cell_type": "markdown",
   "metadata": {},
   "source": [
    "### Q1: This question is about Classes and Objects."
   ]
  },
  {
   "cell_type": "code",
   "execution_count": 31,
   "metadata": {},
   "outputs": [
    {
     "name": "stdout",
     "output_type": "stream",
     "text": [
      "Account number: 123\n",
      "Account name: Melbourne bank\n",
      "Balance: 100\n",
      "Address: Australia Melbourne\n"
     ]
    }
   ],
   "source": [
    "class Bank:\n",
    "    def __init__(self,acc_no,acc_name,balance,address):\n",
    "        self.acc_no = acc_no\n",
    "        self.acc_name = acc_name\n",
    "        self.balance = balance\n",
    "        self.address = address\n",
    "\n",
    "    def check_balance(self):\n",
    "        return self.balance\n",
    "\n",
    "    def withdraw(self,amount):\n",
    "        if amount > self.balance:\n",
    "            return False\n",
    "        else:\n",
    "            self.balance = self.balance - amount\n",
    "            return True\n",
    "\n",
    "    def change_acc_name(self,new_name):\n",
    "        self.acc_name = new_name\n",
    "        return self.acc_name\n",
    "\n",
    "    def transaction(self,other,amount):\n",
    "        self.balance = self.balance - amount\n",
    "        other.balance = other.balance + amount\n",
    "        return other.balance\n",
    "\n",
    "    def passBook(self, filename):\n",
    "        account_info = \"Account number: \" + str(self.acc_no) + \"\\nAccount name: \" + self.acc_name + \"\\nBalance: \" + str(self.balance) + \"\\nAddress: \" + self.address\n",
    "        with open(filename,'w') as output_file:\n",
    "            output_file.write(account_info)\n",
    "        print(account_info)\n",
    "\n",
    "\n",
    "bank1 = Bank(123,'Melbourne bank',100,\"Australia Melbourne\")\n",
    "bank2 = Bank(133,'Monash Bank',200,'Clayton')\n",
    "\n",
    "bank1.passBook(\"output.txt\")"
   ]
  },
  {
   "cell_type": "code",
   "execution_count": null,
   "metadata": {},
   "outputs": [],
   "source": []
  }
 ],
 "metadata": {
  "kernelspec": {
   "display_name": "Python 3",
   "language": "python",
   "name": "python3"
  },
  "language_info": {
   "codemirror_mode": {
    "name": "ipython",
    "version": 3
   },
   "file_extension": ".py",
   "mimetype": "text/x-python",
   "name": "python",
   "nbconvert_exporter": "python",
   "pygments_lexer": "ipython3",
   "version": "3.7.6"
  }
 },
 "nbformat": 4,
 "nbformat_minor": 4
}
