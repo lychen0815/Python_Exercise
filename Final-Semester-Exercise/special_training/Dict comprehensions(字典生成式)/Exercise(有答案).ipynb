{
 "cells": [
  {
   "cell_type": "code",
   "execution_count": 2,
   "metadata": {},
   "outputs": [
    {
     "name": "stdout",
     "output_type": "stream",
     "text": [
      "{'student4': 95, 'student10': 96, 'student15': 99, 'student18': 91}\n"
     ]
    }
   ],
   "source": [
    "#Q1:假设有20个学生，成绩在60-100之间，筛选出成绩在90分以上的学生\n",
    "import random\n",
    "#random.randint(60,100):可以自动生成60-100\n",
    "stuInfo = {'student' + str(i):random.randint(60,100) for i in range(20)}\n",
    "print({name:score for name,score in stuInfo.items() if score >90})"
   ]
  },
  {
   "cell_type": "code",
   "execution_count": 11,
   "metadata": {},
   "outputs": [
    {
     "name": "stdout",
     "output_type": "stream",
     "text": [
      "{1: 'a', 2: 'b', 3: 'c'}\n"
     ]
    }
   ],
   "source": [
    "#Q2:  将字典中的key值和value值调换\n",
    "d = {'a':1,'b':2,'c':3}\n",
    "print({v:k for k,v in d.items()})"
   ]
  },
  {
   "cell_type": "code",
   "execution_count": 10,
   "metadata": {},
   "outputs": [
    {
     "name": "stdout",
     "output_type": "stream",
     "text": [
      "{'a': 'A', 'b': 'B', 'c': 'C'}\n"
     ]
    }
   ],
   "source": [
    "#Q3:  将字典中的value值换成key的大写\n",
    "d = {'a':1,'b':2,'c':3}\n",
    "print({k:k.upper() for k,v in d.items()})"
   ]
  },
  {
   "cell_type": "code",
   "execution_count": 13,
   "metadata": {},
   "outputs": [
    {
     "name": "stdout",
     "output_type": "stream",
     "text": [
      "{'a': 6, 'b': 2, 'c': 3}\n"
     ]
    }
   ],
   "source": [
    "#Q4: 大小写合并，Key值最终全部为小写:{'a': 6, 'b': 2, 'c': 3}\n",
    "d = {'a':1,'b':2,'c':3,'A':5}\n",
    "print ({k.lower():d.get(k.upper(),0)+d.get(k.lower(),0) for k,v in d.items()})"
   ]
  },
  {
   "cell_type": "code",
   "execution_count": null,
   "metadata": {},
   "outputs": [],
   "source": []
  }
 ],
 "metadata": {
  "kernelspec": {
   "display_name": "Python 3",
   "language": "python",
   "name": "python3"
  },
  "language_info": {
   "codemirror_mode": {
    "name": "ipython",
    "version": 3
   },
   "file_extension": ".py",
   "mimetype": "text/x-python",
   "name": "python",
   "nbconvert_exporter": "python",
   "pygments_lexer": "ipython3",
   "version": "3.7.6"
  }
 },
 "nbformat": 4,
 "nbformat_minor": 4
}
